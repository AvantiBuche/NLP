{
 "cells": [
  {
   "cell_type": "code",
   "execution_count": 1,
   "id": "ebcad56c",
   "metadata": {},
   "outputs": [],
   "source": [
    "import re"
   ]
  },
  {
   "cell_type": "code",
   "execution_count": 3,
   "id": "fa31073a",
   "metadata": {},
   "outputs": [
    {
     "data": {
      "text/plain": [
       "'I was born in the year 1989'"
      ]
     },
     "execution_count": 3,
     "metadata": {},
     "output_type": "execute_result"
    }
   ],
   "source": [
    "sentence = \"I was born in the year 1989\"\n",
    "sentence"
   ]
  },
  {
   "cell_type": "code",
   "execution_count": 4,
   "id": "4c4407fe",
   "metadata": {},
   "outputs": [
    {
     "data": {
      "text/plain": [
       "'I was born in the year ####'"
      ]
     },
     "execution_count": 4,
     "metadata": {},
     "output_type": "execute_result"
    }
   ],
   "source": [
    "re.sub(r'\\d','#',sentence)\n",
    "#replace digits by #"
   ]
  },
  {
   "cell_type": "code",
   "execution_count": 5,
   "id": "ffb991b2",
   "metadata": {},
   "outputs": [
    {
     "data": {
      "text/plain": [
       "'I was born in the year     '"
      ]
     },
     "execution_count": 5,
     "metadata": {},
     "output_type": "execute_result"
    }
   ],
   "source": [
    "re.sub(r'\\d',' ',sentence)\n",
    "#replace digits by space "
   ]
  },
  {
   "cell_type": "code",
   "execution_count": 6,
   "id": "8b2c6b26",
   "metadata": {},
   "outputs": [
    {
     "data": {
      "text/plain": [
       "'#######################1989'"
      ]
     },
     "execution_count": 6,
     "metadata": {},
     "output_type": "execute_result"
    }
   ],
   "source": [
    "re.sub(r'\\D','#',sentence)\n",
    "#replace non-digits by #"
   ]
  },
  {
   "cell_type": "code",
   "execution_count": 7,
   "id": "f512f430",
   "metadata": {},
   "outputs": [
    {
     "data": {
      "text/plain": [
       "'I was born in the year ####'"
      ]
     },
     "execution_count": 7,
     "metadata": {},
     "output_type": "execute_result"
    }
   ],
   "source": [
    "re.sub(r'[0-9]','#',sentence)\n",
    "#replace 0-9 by #"
   ]
  },
  {
   "cell_type": "code",
   "execution_count": 8,
   "id": "404d1bc5",
   "metadata": {},
   "outputs": [
    {
     "data": {
      "text/plain": [
       "'#######################1989'"
      ]
     },
     "execution_count": 8,
     "metadata": {},
     "output_type": "execute_result"
    }
   ],
   "source": [
    "re.sub(r'[^0-9]','#',sentence)\n",
    "#replace non-digits by #"
   ]
  },
  {
   "cell_type": "code",
   "execution_count": 10,
   "id": "b64bdb31",
   "metadata": {},
   "outputs": [
    {
     "data": {
      "text/plain": [
       "'# ### #### ## ### #### ####'"
      ]
     },
     "execution_count": 10,
     "metadata": {},
     "output_type": "execute_result"
    }
   ],
   "source": [
    "re.sub(r'\\w','#',sentence)\n",
    "#replace non-spae/word by #"
   ]
  },
  {
   "cell_type": "code",
   "execution_count": 11,
   "id": "c5b8607d",
   "metadata": {},
   "outputs": [
    {
     "data": {
      "text/plain": [
       "'I#was#born#in#the#year#1989'"
      ]
     },
     "execution_count": 11,
     "metadata": {},
     "output_type": "execute_result"
    }
   ],
   "source": [
    "re.sub(r'\\W','#',sentence)\n",
    "#replace space by #"
   ]
  },
  {
   "cell_type": "code",
   "execution_count": 12,
   "id": "ac595077",
   "metadata": {},
   "outputs": [
    {
     "data": {
      "text/plain": [
       "'# ### #### ## ### #### ####'"
      ]
     },
     "execution_count": 12,
     "metadata": {},
     "output_type": "execute_result"
    }
   ],
   "source": [
    "re.sub(r'[a-zA-Z0-9]','#',sentence)"
   ]
  },
  {
   "cell_type": "code",
   "execution_count": 13,
   "id": "2ec26c65",
   "metadata": {},
   "outputs": [
    {
     "data": {
      "text/plain": [
       "'I#was#born#in#the#year#1989'"
      ]
     },
     "execution_count": 13,
     "metadata": {},
     "output_type": "execute_result"
    }
   ],
   "source": [
    "re.sub(r'[^a-zA-Z0-9]','#',sentence)"
   ]
  },
  {
   "cell_type": "code",
   "execution_count": 14,
   "id": "2c8fca48",
   "metadata": {},
   "outputs": [
    {
     "data": {
      "text/plain": [
       "'I#was#born#in#the#year#1989'"
      ]
     },
     "execution_count": 14,
     "metadata": {},
     "output_type": "execute_result"
    }
   ],
   "source": [
    "re.sub(r'\\s','#',sentence)\n",
    "#replace space by #"
   ]
  },
  {
   "cell_type": "code",
   "execution_count": 15,
   "id": "6b2f4269",
   "metadata": {},
   "outputs": [
    {
     "data": {
      "text/plain": [
       "'# ### #### ## ### #### ####'"
      ]
     },
     "execution_count": 15,
     "metadata": {},
     "output_type": "execute_result"
    }
   ],
   "source": [
    "re.sub(r'\\S','#',sentence)"
   ]
  },
  {
   "cell_type": "code",
   "execution_count": 16,
   "id": "645f6bd3",
   "metadata": {},
   "outputs": [
    {
     "data": {
      "text/plain": [
       "'I w#s #orn in the ye#r 1989'"
      ]
     },
     "execution_count": 16,
     "metadata": {},
     "output_type": "execute_result"
    }
   ],
   "source": [
    "re.sub(r'[ab]','#',sentence)"
   ]
  },
  {
   "cell_type": "code",
   "execution_count": 17,
   "id": "a733053a",
   "metadata": {},
   "outputs": [
    {
     "data": {
      "text/plain": [
       "'I was born # the year 1989'"
      ]
     },
     "execution_count": 17,
     "metadata": {},
     "output_type": "execute_result"
    }
   ],
   "source": [
    "re.sub(r'in','#',sentence)"
   ]
  },
  {
   "cell_type": "code",
   "execution_count": 18,
   "id": "8f34acda",
   "metadata": {},
   "outputs": [
    {
     "data": {
      "text/plain": [
       "'I ### #### ## ### #### 1989'"
      ]
     },
     "execution_count": 18,
     "metadata": {},
     "output_type": "execute_result"
    }
   ],
   "source": [
    "re.sub(r'[a-z]','#',sentence)"
   ]
  },
  {
   "cell_type": "code",
   "execution_count": 19,
   "id": "61cf0b7b",
   "metadata": {},
   "outputs": [
    {
     "data": {
      "text/plain": [
       "'# ### #### ## ### #### 1989'"
      ]
     },
     "execution_count": 19,
     "metadata": {},
     "output_type": "execute_result"
    }
   ],
   "source": [
    "re.sub(r'[a-zA-Z]','#',sentence)"
   ]
  },
  {
   "cell_type": "code",
   "execution_count": 20,
   "id": "fd60aa43",
   "metadata": {},
   "outputs": [
    {
     "data": {
      "text/plain": [
       "'# ### #### ## ### #### 1989'"
      ]
     },
     "execution_count": 20,
     "metadata": {},
     "output_type": "execute_result"
    }
   ],
   "source": [
    "re.sub(r'[a-z]','#',sentence,flags=re.I)\n",
    "#flaf-re.I is both upper and lower case letters"
   ]
  },
  {
   "cell_type": "code",
   "execution_count": 21,
   "id": "cf549e9a",
   "metadata": {},
   "outputs": [],
   "source": [
    "sentence2 = \"my name is sonu, sonu is good boy, sonu work well\""
   ]
  },
  {
   "cell_type": "code",
   "execution_count": 22,
   "id": "db38ad9c",
   "metadata": {},
   "outputs": [
    {
     "data": {
      "text/plain": [
       "'my name is parjwal, parjwal is good boy, parjwal work well'"
      ]
     },
     "execution_count": 22,
     "metadata": {},
     "output_type": "execute_result"
    }
   ],
   "source": [
    "re.sub(r'sonu','parjwal',sentence2)"
   ]
  },
  {
   "cell_type": "code",
   "execution_count": 23,
   "id": "5567ac0a",
   "metadata": {},
   "outputs": [
    {
     "data": {
      "text/plain": [
       "'my name is parjwal, sonu is good boy, sonu work well'"
      ]
     },
     "execution_count": 23,
     "metadata": {},
     "output_type": "execute_result"
    }
   ],
   "source": [
    "re.sub(r'sonu','parjwal',sentence2,count=1)\n",
    "#only replace 1 word"
   ]
  },
  {
   "cell_type": "code",
   "execution_count": 25,
   "id": "aec1f823",
   "metadata": {},
   "outputs": [
    {
     "data": {
      "text/plain": [
       "'I was born in the year 1989'"
      ]
     },
     "execution_count": 25,
     "metadata": {},
     "output_type": "execute_result"
    }
   ],
   "source": [
    "sentence"
   ]
  },
  {
   "cell_type": "code",
   "execution_count": 26,
   "id": "dc693759",
   "metadata": {},
   "outputs": [
    {
     "data": {
      "text/plain": [
       "<re.Match object; span=(0, 27), match='I was born in the year 1989'>"
      ]
     },
     "execution_count": 26,
     "metadata": {},
     "output_type": "execute_result"
    }
   ],
   "source": [
    "re.match(r'.*',sentence)\n",
    "#match . - 0 match found out of 27 letters"
   ]
  },
  {
   "cell_type": "code",
   "execution_count": 28,
   "id": "f7b12844",
   "metadata": {},
   "outputs": [
    {
     "data": {
      "text/plain": [
       "''"
      ]
     },
     "execution_count": 28,
     "metadata": {},
     "output_type": "execute_result"
    }
   ],
   "source": [
    "sentence3 = ''\n",
    "sentence3"
   ]
  },
  {
   "cell_type": "code",
   "execution_count": 29,
   "id": "74331ddf",
   "metadata": {},
   "outputs": [
    {
     "data": {
      "text/plain": [
       "<re.Match object; span=(0, 0), match=''>"
      ]
     },
     "execution_count": 29,
     "metadata": {},
     "output_type": "execute_result"
    }
   ],
   "source": [
    "re.match(r'.*',sentence3)\n",
    "# . - 0 match found out of 0 words/letters"
   ]
  },
  {
   "cell_type": "code",
   "execution_count": 30,
   "id": "523674a5",
   "metadata": {},
   "outputs": [],
   "source": [
    "re.match(r'.+',sentence3)"
   ]
  },
  {
   "cell_type": "code",
   "execution_count": 31,
   "id": "d280e758",
   "metadata": {},
   "outputs": [
    {
     "data": {
      "text/plain": [
       "<re.Match object; span=(0, 27), match='I was born in the year 1989'>"
      ]
     },
     "execution_count": 31,
     "metadata": {},
     "output_type": "execute_result"
    }
   ],
   "source": [
    "re.match(r'.+',sentence)"
   ]
  },
  {
   "cell_type": "code",
   "execution_count": 32,
   "id": "64ccd466",
   "metadata": {},
   "outputs": [
    {
     "data": {
      "text/plain": [
       "<re.Match object; span=(0, 1), match='I'>"
      ]
     },
     "execution_count": 32,
     "metadata": {},
     "output_type": "execute_result"
    }
   ],
   "source": [
    "re.search(r'^I',sentence)\n",
    "#search I"
   ]
  },
  {
   "cell_type": "code",
   "execution_count": 33,
   "id": "1a582dab",
   "metadata": {},
   "outputs": [
    {
     "data": {
      "text/plain": [
       "<re.Match object; span=(23, 27), match='1989'>"
      ]
     },
     "execution_count": 33,
     "metadata": {},
     "output_type": "execute_result"
    }
   ],
   "source": [
    "re.search(r'1989$',sentence)"
   ]
  },
  {
   "cell_type": "code",
   "execution_count": 34,
   "id": "2d040bbd",
   "metadata": {},
   "outputs": [],
   "source": [
    "re.search(r'1988$',sentence)"
   ]
  },
  {
   "cell_type": "code",
   "execution_count": 35,
   "id": "4a10dd18",
   "metadata": {},
   "outputs": [],
   "source": [
    "sentence11 = \"!welcome to Nagpur 2023\"\n",
    "sentence22 = \"we will have ~% +++--- fun at @orange #city. I am Happy\"\n",
    "sentence33 = \"we         love        nagpur\""
   ]
  },
  {
   "cell_type": "code",
   "execution_count": 37,
   "id": "99a981c7",
   "metadata": {},
   "outputs": [
    {
     "data": {
      "text/plain": [
       "' welcome to Nagpur 2023'"
      ]
     },
     "execution_count": 37,
     "metadata": {},
     "output_type": "execute_result"
    }
   ],
   "source": [
    "sent1 = re.sub(r'\\W',' ',sentence11)\n",
    "#remove non words- like special caras\n",
    "sent1"
   ]
  },
  {
   "cell_type": "code",
   "execution_count": 39,
   "id": "223b51d2",
   "metadata": {},
   "outputs": [
    {
     "data": {
      "text/plain": [
       "' welcome to Nagpur     '"
      ]
     },
     "execution_count": 39,
     "metadata": {},
     "output_type": "execute_result"
    }
   ],
   "source": [
    "sent1 = re.sub(r'\\d',' ',sent1)\n",
    "sent1"
   ]
  },
  {
   "cell_type": "code",
   "execution_count": 42,
   "id": "bf23285e",
   "metadata": {},
   "outputs": [
    {
     "data": {
      "text/plain": [
       "'welcome to Nagpur'"
      ]
     },
     "execution_count": 42,
     "metadata": {},
     "output_type": "execute_result"
    }
   ],
   "source": [
    "sent1 = re.sub(r'^\\s+|\\s+$','',sent1)\n",
    "#remove spaces-\n",
    "#^- from start\n",
    "#s+ - one space \n",
    "#s+$ - more space\n",
    "#replace by ' '\n",
    "sent1"
   ]
  },
  {
   "cell_type": "markdown",
   "id": "11364ed5",
   "metadata": {},
   "source": [
    "sentenc22"
   ]
  },
  {
   "cell_type": "code",
   "execution_count": 43,
   "id": "4aecf4d4",
   "metadata": {},
   "outputs": [
    {
     "data": {
      "text/plain": [
       "'we will have ~% +++--- fun at @orange #city. I am Happy'"
      ]
     },
     "execution_count": 43,
     "metadata": {},
     "output_type": "execute_result"
    }
   ],
   "source": [
    "sentence22"
   ]
  },
  {
   "cell_type": "code",
   "execution_count": 44,
   "id": "04f2c4a9",
   "metadata": {},
   "outputs": [
    {
     "data": {
      "text/plain": [
       "'we will have           fun at  orange  city  I am Happy'"
      ]
     },
     "execution_count": 44,
     "metadata": {},
     "output_type": "execute_result"
    }
   ],
   "source": [
    "sent2 = re.sub(r'\\W',' ',sentence22)\n",
    "sent2"
   ]
  },
  {
   "cell_type": "code",
   "execution_count": 46,
   "id": "890c0c24",
   "metadata": {},
   "outputs": [
    {
     "data": {
      "text/plain": [
       "'we will have ~% +++--- fun at @orange #city. I am Happy'"
      ]
     },
     "execution_count": 46,
     "metadata": {},
     "output_type": "execute_result"
    }
   ],
   "source": [
    "sentence22"
   ]
  },
  {
   "cell_type": "code",
   "execution_count": 49,
   "id": "927c509e",
   "metadata": {},
   "outputs": [
    {
     "data": {
      "text/plain": [
       "'we will have           fun at  orange  city. I am Happy'"
      ]
     },
     "execution_count": 49,
     "metadata": {},
     "output_type": "execute_result"
    }
   ],
   "source": [
    "sent3 = re.sub(r'[~%\\+\\-@#]',' ',sentence22)\n",
    "sent3"
   ]
  },
  {
   "cell_type": "code",
   "execution_count": 50,
   "id": "79292509",
   "metadata": {},
   "outputs": [
    {
     "data": {
      "text/plain": [
       "'we will have fun at orange city. I am Happy'"
      ]
     },
     "execution_count": 50,
     "metadata": {},
     "output_type": "execute_result"
    }
   ],
   "source": [
    "sent3 = re.sub(r'\\s+',' ',sent3)\n",
    "sent3"
   ]
  },
  {
   "cell_type": "code",
   "execution_count": 51,
   "id": "123d332f",
   "metadata": {},
   "outputs": [
    {
     "data": {
      "text/plain": [
       "'we will have ~% +++--- fun at @orange #city. I am Happy'"
      ]
     },
     "execution_count": 51,
     "metadata": {},
     "output_type": "execute_result"
    }
   ],
   "source": [
    "sentence22"
   ]
  },
  {
   "cell_type": "code",
   "execution_count": 53,
   "id": "c6532a89",
   "metadata": {},
   "outputs": [
    {
     "data": {
      "text/plain": [
       "'we admir nagpur'"
      ]
     },
     "execution_count": 53,
     "metadata": {},
     "output_type": "execute_result"
    }
   ],
   "source": [
    "re.sub(r'\\s+love\\s+',' admir ',sentence33)\n",
    "#replace love by admir"
   ]
  },
  {
   "cell_type": "code",
   "execution_count": 55,
   "id": "4455a750",
   "metadata": {},
   "outputs": [
    {
     "data": {
      "text/plain": [
       "['This is my #Nagpur',\n",
       " 'Welcome to the orange city @Nagpur',\n",
       " '440009 is my Pincode in city',\n",
       " 'Remember my friend r-ramoji',\n",
       " 'Living       in       Nagpur']"
      ]
     },
     "execution_count": 55,
     "metadata": {},
     "output_type": "execute_result"
    }
   ],
   "source": [
    "X = [\"This is my #Nagpur\",\n",
    "    \"Welcome to the orange city @Nagpur\",\n",
    "    \"440009 is my Pincode in city\",\n",
    "    \"Remember my friend r-ramoji\",\n",
    "    \"Living       in       Nagpur\"]\n",
    "#this is list of sentences\n",
    "X"
   ]
  },
  {
   "cell_type": "code",
   "execution_count": 57,
   "id": "88d024c1",
   "metadata": {},
   "outputs": [
    {
     "data": {
      "text/plain": [
       "['This is my Nagpur',\n",
       " 'Welcome to the orange city Nagpur',\n",
       " 'is my Pincode in city',\n",
       " 'Remember my friend ramoji',\n",
       " 'Living in Nagpur']"
      ]
     },
     "execution_count": 57,
     "metadata": {},
     "output_type": "execute_result"
    }
   ],
   "source": [
    "for i in range(len(X)):\n",
    "    X[i] = re.sub(r'\\W',' ',X[i])\n",
    "    X[i] = re.sub(r'\\d',' ',X[i])\n",
    "    X[i] = re.sub(r'\\s+[a-z]\\s+',' ',X[i])\n",
    "    X[i] = re.sub(r'^\\s+','',X[i])\n",
    "    X[i] = re.sub(r'\\s+',' ',X[i])\n",
    "X"
   ]
  },
  {
   "cell_type": "code",
   "execution_count": 59,
   "id": "6b852436",
   "metadata": {},
   "outputs": [
    {
     "data": {
      "text/plain": [
       "'dany work from office'"
      ]
     },
     "execution_count": 59,
     "metadata": {},
     "output_type": "execute_result"
    }
   ],
   "source": [
    "s = 'dany work from office'\n",
    "s"
   ]
  },
  {
   "cell_type": "code",
   "execution_count": 60,
   "id": "291f5055",
   "metadata": {},
   "outputs": [
    {
     "data": {
      "text/plain": [
       "['dany', 'work', 'from', 'office']"
      ]
     },
     "execution_count": 60,
     "metadata": {},
     "output_type": "execute_result"
    }
   ],
   "source": [
    "s.split()"
   ]
  },
  {
   "cell_type": "code",
   "execution_count": 61,
   "id": "4f172035",
   "metadata": {},
   "outputs": [
    {
     "data": {
      "text/plain": [
       "['dany work ', ' office']"
      ]
     },
     "execution_count": 61,
     "metadata": {},
     "output_type": "execute_result"
    }
   ],
   "source": [
    "s.split('from')"
   ]
  },
  {
   "cell_type": "code",
   "execution_count": 62,
   "id": "243e5611",
   "metadata": {},
   "outputs": [],
   "source": [
    "s = 'dany,work,from,office'"
   ]
  },
  {
   "cell_type": "code",
   "execution_count": 64,
   "id": "2eaea3ce",
   "metadata": {},
   "outputs": [
    {
     "data": {
      "text/plain": [
       "['dany', 'work', 'from', 'office']"
      ]
     },
     "execution_count": 64,
     "metadata": {},
     "output_type": "execute_result"
    }
   ],
   "source": [
    "s.split(',')"
   ]
  },
  {
   "cell_type": "code",
   "execution_count": 66,
   "id": "9bbf3b5e",
   "metadata": {},
   "outputs": [
    {
     "data": {
      "text/plain": [
       "4"
      ]
     },
     "execution_count": 66,
     "metadata": {},
     "output_type": "execute_result"
    }
   ],
   "source": [
    "lst = ['dany', 'work', 'from', 'office']\n",
    "len(lst)"
   ]
  },
  {
   "cell_type": "code",
   "execution_count": 67,
   "id": "851882da",
   "metadata": {},
   "outputs": [
    {
     "data": {
      "text/plain": [
       "'dany,work,from,office'"
      ]
     },
     "execution_count": 67,
     "metadata": {},
     "output_type": "execute_result"
    }
   ],
   "source": [
    "','.join(lst)"
   ]
  },
  {
   "cell_type": "code",
   "execution_count": 68,
   "id": "f5a81e86",
   "metadata": {},
   "outputs": [
    {
     "data": {
      "text/plain": [
       "'dany work from office'"
      ]
     },
     "execution_count": 68,
     "metadata": {},
     "output_type": "execute_result"
    }
   ],
   "source": [
    "' '.join(lst)"
   ]
  },
  {
   "cell_type": "code",
   "execution_count": 69,
   "id": "00054b8d",
   "metadata": {},
   "outputs": [],
   "source": [
    "email = 'danypetkar@gmail.com'"
   ]
  },
  {
   "cell_type": "code",
   "execution_count": 70,
   "id": "36ec6ada",
   "metadata": {},
   "outputs": [
    {
     "data": {
      "text/plain": [
       "['danypetkar', 'gmail.com']"
      ]
     },
     "execution_count": 70,
     "metadata": {},
     "output_type": "execute_result"
    }
   ],
   "source": [
    "email.split('@')"
   ]
  },
  {
   "cell_type": "code",
   "execution_count": 71,
   "id": "0153c605",
   "metadata": {},
   "outputs": [
    {
     "data": {
      "text/plain": [
       "'danypetkar'"
      ]
     },
     "execution_count": 71,
     "metadata": {},
     "output_type": "execute_result"
    }
   ],
   "source": [
    "email.split('@')[0]"
   ]
  },
  {
   "cell_type": "code",
   "execution_count": 72,
   "id": "f2393f04",
   "metadata": {},
   "outputs": [],
   "source": [
    "#function of split\n",
    "def username(st):\n",
    "    return st.split('@')[0]"
   ]
  },
  {
   "cell_type": "code",
   "execution_count": 73,
   "id": "40489a69",
   "metadata": {},
   "outputs": [
    {
     "data": {
      "text/plain": [
       "'prajwal'"
      ]
     },
     "execution_count": 73,
     "metadata": {},
     "output_type": "execute_result"
    }
   ],
   "source": [
    "username('prajwal@gmail.com')"
   ]
  },
  {
   "cell_type": "code",
   "execution_count": 74,
   "id": "24fbd233",
   "metadata": {},
   "outputs": [],
   "source": [
    "# pip install nltk"
   ]
  },
  {
   "cell_type": "code",
   "execution_count": 75,
   "id": "778166e7",
   "metadata": {},
   "outputs": [
    {
     "name": "stdout",
     "output_type": "stream",
     "text": [
      "showing info https://raw.githubusercontent.com/nltk/nltk_data/gh-pages/index.xml\n"
     ]
    },
    {
     "data": {
      "text/plain": [
       "True"
      ]
     },
     "execution_count": 75,
     "metadata": {},
     "output_type": "execute_result"
    }
   ],
   "source": [
    "import nltk\n",
    "nltk.download()"
   ]
  },
  {
   "cell_type": "code",
   "execution_count": null,
   "id": "0ec9a7f5",
   "metadata": {},
   "outputs": [],
   "source": []
  }
 ],
 "metadata": {
  "kernelspec": {
   "display_name": "Python 3 (ipykernel)",
   "language": "python",
   "name": "python3"
  },
  "language_info": {
   "codemirror_mode": {
    "name": "ipython",
    "version": 3
   },
   "file_extension": ".py",
   "mimetype": "text/x-python",
   "name": "python",
   "nbconvert_exporter": "python",
   "pygments_lexer": "ipython3",
   "version": "3.8.16"
  }
 },
 "nbformat": 4,
 "nbformat_minor": 5
}
